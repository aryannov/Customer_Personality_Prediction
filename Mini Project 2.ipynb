{
 "cells": [
  {
   "cell_type": "code",
   "execution_count": null,
   "id": "53cc258a-68b4-4054-9395-13856f0b2244",
   "metadata": {},
   "outputs": [],
   "source": [
    "import numpy as np\n",
    "import pandas as pd\n",
    "import seaborn as sns\n",
    "import matplotlib.pyplot as plt\n",
    "from matplotlib import rcParams"
   ]
  },
  {
   "cell_type": "code",
   "execution_count": null,
   "id": "9029e0cf-dbcb-4d0e-b936-d1252c8adf35",
   "metadata": {},
   "outputs": [],
   "source": [
    "df = pd.read_csv(\"/Users/aryannovario/Rakamin/Mini Project 2/hotel_bookings_data.csv\")\n",
    "df.head()"
   ]
  },
  {
   "cell_type": "code",
   "execution_count": null,
   "id": "b009ee3d-c319-4127-9312-30e3db05cd21",
   "metadata": {},
   "outputs": [],
   "source": [
    "df.isna().sum()"
   ]
  },
  {
   "cell_type": "markdown",
   "id": "54c9eaa1-7bbf-4611-9a8a-2790fd5a89d1",
   "metadata": {},
   "source": [
    "**A. Handle Missing Value** "
   ]
  },
  {
   "cell_type": "code",
   "execution_count": null,
   "id": "de1e6d13-1cec-46f3-9ace-9e09b274cc7d",
   "metadata": {},
   "outputs": [],
   "source": [
    "df.info()"
   ]
  },
  {
   "cell_type": "markdown",
   "id": "739ac9de-2e6b-4c4e-beae-87abbf02b713",
   "metadata": {},
   "source": [
    "missing data : children, city, agent, company"
   ]
  },
  {
   "cell_type": "code",
   "execution_count": null,
   "id": "61d986c2-2167-48f4-ab92-ea8e8f3c900d",
   "metadata": {},
   "outputs": [],
   "source": [
    "df=df.dropna(subset=[\"children\",\"city\"])\n",
    "df.info()"
   ]
  },
  {
   "cell_type": "code",
   "execution_count": null,
   "id": "87fba4cd-3c91-411b-a2c1-c4f01d35ee3d",
   "metadata": {},
   "outputs": [],
   "source": [
    "df['agent']=df['agent'].fillna(df['agent'].mean())\n",
    "df['company']=df['company'].fillna(df['company'].mean())\n",
    "df.info()"
   ]
  },
  {
   "cell_type": "code",
   "execution_count": null,
   "id": "4d4ac2ec-18b7-4cb6-8bf9-c63fa0ab6114",
   "metadata": {},
   "outputs": [],
   "source": [
    "df.isna().sum()"
   ]
  },
  {
   "cell_type": "code",
   "execution_count": null,
   "id": "2c23a4fb-9c0f-4742-ba44-4a1b4f0712ee",
   "metadata": {},
   "outputs": [],
   "source": [
    "df = df.drop(df[(df.adults+df.children+df.babies)==0].index)\n",
    "df.head()"
   ]
  },
  {
   "cell_type": "code",
   "execution_count": null,
   "id": "ccf1317f-0dd6-43ab-ab2c-700159f709fa",
   "metadata": {},
   "outputs": [],
   "source": [
    "df.info()"
   ]
  },
  {
   "cell_type": "code",
   "execution_count": null,
   "id": "1e7a69b0-db25-4f77-9ef3-9d20da687c39",
   "metadata": {},
   "outputs": [],
   "source": [
    "df['meal']=df['meal'].replace(['undefined'],df['meal'].mode())\n",
    "df.head()"
   ]
  },
  {
   "cell_type": "markdown",
   "id": "c2cf36b5-c94a-404c-b0ac-dfcc72cabf09",
   "metadata": {},
   "source": [
    "**B. Drop Duplicate**"
   ]
  },
  {
   "cell_type": "code",
   "execution_count": null,
   "id": "df77b9b5-8aa3-42ba-84c7-3be5d9cc6262",
   "metadata": {},
   "outputs": [],
   "source": [
    "print(df.duplicated().sum())"
   ]
  },
  {
   "cell_type": "code",
   "execution_count": null,
   "id": "f3c0711a-1274-4c42-9846-d8417b6165ee",
   "metadata": {},
   "outputs": [],
   "source": [
    "df=df.drop_duplicates()\n",
    "print(df.duplicated().sum())"
   ]
  },
  {
   "cell_type": "markdown",
   "id": "49bff287-7cf7-4952-8a37-8fb34dfae854",
   "metadata": {},
   "source": [
    "**C. Handle Outlier**"
   ]
  },
  {
   "cell_type": "markdown",
   "id": "3ce20bcd-6cff-46de-bc66-ca81349aa529",
   "metadata": {},
   "source": [
    "data yg digunakan yaitu : stays_in_weekdays_nights, adults, previous_cancellations, previous_bookings_not_canceled, booking_changes, required_car_parking_spaces, total_of_special_requests"
   ]
  },
  {
   "cell_type": "code",
   "execution_count": null,
   "id": "e4784680-5593-48fe-a3c4-0779c85f16fd",
   "metadata": {},
   "outputs": [],
   "source": [
    "import seaborn as sns\n",
    "from scipy import stats"
   ]
  },
  {
   "cell_type": "code",
   "execution_count": null,
   "id": "d35c56ce-7721-4e50-883a-841d5832eb1b",
   "metadata": {},
   "outputs": [],
   "source": [
    "print(f'Jumlah baris sebelum memfilter outlier: {len(df)}')\n",
    "\n",
    "for col in ['stays_in_weekdays_nights','adults','previous_cancellations','previous_bookings_not_canceled','booking_changes','required_car_parking_spaces','total_of_special_requests']:\n",
    "    zscore = abs(stats.zscore(df[col]))\n",
    "    filtered = (zscore < 3)\n",
    "df_filtered = df[filtered]\n",
    "\n",
    "print(f'Jumlah baris setelah memfilter outlier: {len(df_filtered)}')"
   ]
  },
  {
   "cell_type": "markdown",
   "id": "4d906e8d-210c-4c8f-8170-8178a43c69cc",
   "metadata": {},
   "source": [
    "**D. Tabel Agregasi**"
   ]
  },
  {
   "cell_type": "code",
   "execution_count": null,
   "id": "8d9b5320-5f76-40f2-b02b-698964b002bb",
   "metadata": {},
   "outputs": [],
   "source": [
    "JP = df_filtered[['arrival_date_year','arrival_date_month','hotel','is_canceled']]\n",
    "print(JP)\n"
   ]
  },
  {
   "cell_type": "code",
   "execution_count": null,
   "id": "94fc3e74-949a-4772-9196-611f516b437e",
   "metadata": {},
   "outputs": [],
   "source": [
    "JP.info()"
   ]
  },
  {
   "cell_type": "code",
   "execution_count": null,
   "id": "df2727da-36a8-400c-9045-84d8759f1125",
   "metadata": {},
   "outputs": [],
   "source": [
    "pd.pivot_table(JP,\n",
    "               index=['arrival_date_year','arrival_date_month','hotel'],\n",
    "               values=['is_canceled'],\n",
    "               aggfunc={'arrival_date_month':['count']})"
   ]
  },
  {
   "cell_type": "code",
   "execution_count": null,
   "id": "b33c8181-6fbb-4936-b61a-0ff4e67177e5",
   "metadata": {},
   "outputs": [],
   "source": [
    "JP.describe()"
   ]
  },
  {
   "cell_type": "code",
   "execution_count": null,
   "id": "f1fff758-98bd-42b2-b87a-e6e536c76056",
   "metadata": {},
   "outputs": [],
   "source": [
    "sns.kdeplot(JP['is_canceled'])\n",
    "plt.show()"
   ]
  },
  {
   "cell_type": "code",
   "execution_count": null,
   "id": "6b3f4521-d1c7-473a-a0a1-3e05386ffd15",
   "metadata": {},
   "outputs": [],
   "source": [
    "sns.kdeplot(JP['is_canceled'])\n",
    "plt.show()"
   ]
  },
  {
   "cell_type": "code",
   "execution_count": null,
   "id": "a13d0b30-355d-437f-8697-7149e114f0da",
   "metadata": {},
   "outputs": [],
   "source": [
    "#Log Transformation\n",
    "\n",
    "sns.kdeplot(np.log(JP['is_canceled']))\n",
    "plt.show()"
   ]
  },
  {
   "cell_type": "code",
   "execution_count": null,
   "id": "fe257283-a5e4-44a3-a539-08dab20153b2",
   "metadata": {},
   "outputs": [],
   "source": [
    "sns.kdeplot(np.log(JP['arrival_date_year']))\n",
    "plt.show()"
   ]
  },
  {
   "cell_type": "markdown",
   "id": "f21206b4-8e3d-4bc1-9adf-3e7141edfa31",
   "metadata": {},
   "source": [
    "**Normalisasi Data**"
   ]
  },
  {
   "cell_type": "code",
   "execution_count": null,
   "id": "cb22963f-8e9d-4812-b68a-bab3dc973880",
   "metadata": {},
   "outputs": [],
   "source": [
    "JP.describe()"
   ]
  },
  {
   "cell_type": "code",
   "execution_count": null,
   "id": "aa04c1fa-efa1-4ee5-b3b9-f840c411633c",
   "metadata": {},
   "outputs": [],
   "source": [
    "from sklearn. preprocessing import MinMaxScaler, StandardScaler\n",
    "\n",
    "JP['is_canceled'] = MinMaxScaler().fit_transform(JP['is_canceled'].values.reshape(len(JP), 1))"
   ]
  },
  {
   "cell_type": "code",
   "execution_count": null,
   "id": "979d1ae1-86ef-4718-9441-4f28ba572ba3",
   "metadata": {},
   "outputs": [],
   "source": [
    "JP.describe()"
   ]
  },
  {
   "cell_type": "code",
   "execution_count": null,
   "id": "a832aa7e-3bd6-412b-b4b7-52099b34c0a3",
   "metadata": {},
   "outputs": [],
   "source": [
    "fig, ax = plt.subplots()\n",
    "sns.kdeplot(JP['is_canceled'], ax=ax, color ='green')\n",
    "ax.set_xlim(0,100)\n",
    "ax.set_title('Distribution Plot Before Standard Scaling')\n",
    "plt.xlabel('Count')\n",
    "plt.show()"
   ]
  },
  {
   "cell_type": "code",
   "execution_count": null,
   "id": "92ab82a5-d45d-4bcf-aab1-a6f740ba2544",
   "metadata": {},
   "outputs": [],
   "source": [
    "JP_1 = JP[['is_canceled']]\n",
    "ax = JP_1.plot.kde()\n",
    "ax.set_title('Distribution Plot After StandardScaling')\n",
    "plt.show()"
   ]
  },
  {
   "cell_type": "code",
   "execution_count": null,
   "id": "24a1cdb2-730b-411b-801f-965ad9e4ab26",
   "metadata": {},
   "outputs": [],
   "source": [
    "fig, ax = plt.subplots(figsize=(12, 7))\n",
    "\n",
    "mhsa = ax.bar(x - width/2, mahasiswa, width, label='Laki-laki', color='steelblue')\n",
    "mhsi = ax.bar(x + width/2, mahasiswi, width, label='Perempuan', color='lightcoral')\n",
    "\n",
    "ax.set_title('Jumlah Mahasiswa/i Per Program Studi', size=16)\n",
    "ax.set_ylabel('Jumlah Mahasiswa', size=14)\n",
    "ax.set_xticks(x)\n",
    "ax.set_xticklabels(prodi, size=12)\n",
    "ax.legend(fontsize=14)\n",
    "\n",
    "plt.show()\n"
   ]
  },
  {
   "cell_type": "code",
   "execution_count": null,
   "id": "29f83983-aa3a-4017-ab07-2cee2fc5dd3d",
   "metadata": {},
   "outputs": [],
   "source": [
    "plt.figure(figsize=(25, 13))\n",
    "sns.barplot(x='arrival_date_month',y='is_canceled', data=df_filtered, estimator=sum, hue1='arrival_date_year',hue2='hotel');"
   ]
  },
  {
   "cell_type": "code",
   "execution_count": null,
   "id": "001b03d0-5387-402b-a6ca-6bc049e98a49",
   "metadata": {},
   "outputs": [],
   "source": [
    "print(JP)"
   ]
  }
 ],
 "metadata": {
  "kernelspec": {
   "display_name": "base",
   "language": "python",
   "name": "python3"
  },
  "language_info": {
   "codemirror_mode": {
    "name": "ipython",
    "version": 3
   },
   "file_extension": ".py",
   "mimetype": "text/x-python",
   "name": "python",
   "nbconvert_exporter": "python",
   "pygments_lexer": "ipython3",
   "version": "3.9.12 (main, Apr  5 2022, 01:53:17) \n[Clang 12.0.0 ]"
  },
  "vscode": {
   "interpreter": {
    "hash": "52f2b5f11a5b8b77e80c7bac7ed30226d972d596357caf781a0ddecfa9914e7a"
   }
  }
 },
 "nbformat": 4,
 "nbformat_minor": 5
}
